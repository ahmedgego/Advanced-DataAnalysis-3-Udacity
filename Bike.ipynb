{
 "cells": [
  {
   "cell_type": "markdown",
   "metadata": {},
   "source": [
    "# (Ford GoBike System Data)\n",
    "## by (Ahmed Elgayar)\n",
    "\n",
    "## Preliminary Wrangling\n",
    "\n",
    "This project is divided into two major parts:\n",
    "\n",
    "In the first part, we will conduct an exploratory data analysis on our dataset. We will use Python and data visualization libraries to explore the dataset’s variables and understand the data’s structure, oddities, patterns and relationships. The analysis in this part is structured, going from simple univariate relationships up through multivariate relationships.\n",
    "\n",
    "In the second part, We will take our main findings from our exploration and convey them to others through an explanatory analysis. To this end, We will create a slide deck that leverages polished, explanatory visualizations to communicate your results.."
   ]
  },
  {
   "cell_type": "code",
   "execution_count": 1,
   "metadata": {},
   "outputs": [],
   "source": [
    "# import all packages and set plots to be embedded inline\n",
    "import numpy as np\n",
    "import pandas as pd\n",
    "import matplotlib.pyplot as plt\n",
    "import seaborn as sb\n",
    "\n",
    "%matplotlib inline"
   ]
  },
  {
   "cell_type": "markdown",
   "metadata": {},
   "source": [
    "First i download data from website (https://www.citibikenyc.com/system-data)(https://s3.amazonaws.com/tripdata/index.html)\n",
    "and then collect them in one folder.\n",
    "the data that i used in project is for 11 months (from jan to nov)2020."
   ]
  },
  {
   "cell_type": "code",
   "execution_count": null,
   "metadata": {},
   "outputs": [],
   "source": [
    "# https://stackoverflow.com/questions/20906474/import-multiple-csv-files-into-pandas-and-concatenate-into-one-dataframe\n",
    "#import glob\n",
    "\n",
    "#path = r'C:\\Users\\Ahmed\\Udacity\\0- final\\csv files' # use your path\n",
    "#all_files = glob.glob(path + \"/*.csv\")\n",
    "\n",
    "#li = []\n",
    "\n",
    "#for filename in all_files:\n",
    "    #df = pd.read_csv(filename, index_col=None, header=0)\n",
    "    #li.append(df)\n",
    "\n",
    "#frame = pd.concat(li, axis=0, ignore_index=True)"
   ]
  },
  {
   "cell_type": "code",
   "execution_count": null,
   "metadata": {},
   "outputs": [],
   "source": [
    "#frame.to_csv('2020-fordgobike-tripdata.csv')"
   ]
  },
  {
   "cell_type": "code",
   "execution_count": 2,
   "metadata": {},
   "outputs": [],
   "source": [
    "# load the dataset into a dataframe\n",
    "df_bike = pd.read_csv('2020-fordgobike-tripdata.csv')"
   ]
  },
  {
   "cell_type": "code",
   "execution_count": 3,
   "metadata": {},
   "outputs": [
    {
     "name": "stdout",
     "output_type": "stream",
     "text": [
      "<class 'pandas.core.frame.DataFrame'>\n",
      "RangeIndex: 325108 entries, 0 to 325107\n",
      "Data columns (total 16 columns):\n",
      " #   Column                   Non-Null Count   Dtype  \n",
      "---  ------                   --------------   -----  \n",
      " 0   Unnamed: 0               325108 non-null  int64  \n",
      " 1   tripduration             325108 non-null  int64  \n",
      " 2   starttime                325108 non-null  object \n",
      " 3   stoptime                 325108 non-null  object \n",
      " 4   start station id         325108 non-null  int64  \n",
      " 5   start station name       325108 non-null  object \n",
      " 6   start station latitude   325108 non-null  float64\n",
      " 7   start station longitude  325108 non-null  float64\n",
      " 8   end station id           325108 non-null  int64  \n",
      " 9   end station name         325108 non-null  object \n",
      " 10  end station latitude     325108 non-null  float64\n",
      " 11  end station longitude    325108 non-null  float64\n",
      " 12  bikeid                   325108 non-null  int64  \n",
      " 13  usertype                 325108 non-null  object \n",
      " 14  birth year               325108 non-null  int64  \n",
      " 15  gender                   325108 non-null  int64  \n",
      "dtypes: float64(4), int64(7), object(5)\n",
      "memory usage: 39.7+ MB\n"
     ]
    }
   ],
   "source": [
    "df_bike.info()"
   ]
  },
  {
   "cell_type": "code",
   "execution_count": 4,
   "metadata": {},
   "outputs": [
    {
     "data": {
      "text/html": [
       "<div>\n",
       "<style scoped>\n",
       "    .dataframe tbody tr th:only-of-type {\n",
       "        vertical-align: middle;\n",
       "    }\n",
       "\n",
       "    .dataframe tbody tr th {\n",
       "        vertical-align: top;\n",
       "    }\n",
       "\n",
       "    .dataframe thead th {\n",
       "        text-align: right;\n",
       "    }\n",
       "</style>\n",
       "<table border=\"1\" class=\"dataframe\">\n",
       "  <thead>\n",
       "    <tr style=\"text-align: right;\">\n",
       "      <th></th>\n",
       "      <th>Unnamed: 0</th>\n",
       "      <th>tripduration</th>\n",
       "      <th>starttime</th>\n",
       "      <th>stoptime</th>\n",
       "      <th>start station id</th>\n",
       "      <th>start station name</th>\n",
       "      <th>start station latitude</th>\n",
       "      <th>start station longitude</th>\n",
       "      <th>end station id</th>\n",
       "      <th>end station name</th>\n",
       "      <th>end station latitude</th>\n",
       "      <th>end station longitude</th>\n",
       "      <th>bikeid</th>\n",
       "      <th>usertype</th>\n",
       "      <th>birth year</th>\n",
       "      <th>gender</th>\n",
       "    </tr>\n",
       "  </thead>\n",
       "  <tbody>\n",
       "    <tr>\n",
       "      <th>0</th>\n",
       "      <td>0</td>\n",
       "      <td>226</td>\n",
       "      <td>2020-01-01 00:04:50.1920</td>\n",
       "      <td>2020-01-01 00:08:37.0370</td>\n",
       "      <td>3186</td>\n",
       "      <td>Grove St PATH</td>\n",
       "      <td>40.719586</td>\n",
       "      <td>-74.043117</td>\n",
       "      <td>3211</td>\n",
       "      <td>Newark Ave</td>\n",
       "      <td>40.721525</td>\n",
       "      <td>-74.046305</td>\n",
       "      <td>29444</td>\n",
       "      <td>Subscriber</td>\n",
       "      <td>1984</td>\n",
       "      <td>2</td>\n",
       "    </tr>\n",
       "    <tr>\n",
       "      <th>1</th>\n",
       "      <td>1</td>\n",
       "      <td>377</td>\n",
       "      <td>2020-01-01 00:16:01.6700</td>\n",
       "      <td>2020-01-01 00:22:19.0800</td>\n",
       "      <td>3186</td>\n",
       "      <td>Grove St PATH</td>\n",
       "      <td>40.719586</td>\n",
       "      <td>-74.043117</td>\n",
       "      <td>3269</td>\n",
       "      <td>Brunswick &amp; 6th</td>\n",
       "      <td>40.726012</td>\n",
       "      <td>-74.050389</td>\n",
       "      <td>26305</td>\n",
       "      <td>Subscriber</td>\n",
       "      <td>1989</td>\n",
       "      <td>2</td>\n",
       "    </tr>\n",
       "    <tr>\n",
       "      <th>2</th>\n",
       "      <td>2</td>\n",
       "      <td>288</td>\n",
       "      <td>2020-01-01 00:17:33.8770</td>\n",
       "      <td>2020-01-01 00:22:22.4420</td>\n",
       "      <td>3186</td>\n",
       "      <td>Grove St PATH</td>\n",
       "      <td>40.719586</td>\n",
       "      <td>-74.043117</td>\n",
       "      <td>3269</td>\n",
       "      <td>Brunswick &amp; 6th</td>\n",
       "      <td>40.726012</td>\n",
       "      <td>-74.050389</td>\n",
       "      <td>29268</td>\n",
       "      <td>Customer</td>\n",
       "      <td>1989</td>\n",
       "      <td>1</td>\n",
       "    </tr>\n",
       "    <tr>\n",
       "      <th>3</th>\n",
       "      <td>3</td>\n",
       "      <td>435</td>\n",
       "      <td>2020-01-01 00:32:05.9020</td>\n",
       "      <td>2020-01-01 00:39:21.0660</td>\n",
       "      <td>3195</td>\n",
       "      <td>Sip Ave</td>\n",
       "      <td>40.730897</td>\n",
       "      <td>-74.063913</td>\n",
       "      <td>3280</td>\n",
       "      <td>Astor Place</td>\n",
       "      <td>40.719282</td>\n",
       "      <td>-74.071262</td>\n",
       "      <td>29278</td>\n",
       "      <td>Customer</td>\n",
       "      <td>1969</td>\n",
       "      <td>0</td>\n",
       "    </tr>\n",
       "    <tr>\n",
       "      <th>4</th>\n",
       "      <td>4</td>\n",
       "      <td>231</td>\n",
       "      <td>2020-01-01 00:46:19.6780</td>\n",
       "      <td>2020-01-01 00:50:11.3440</td>\n",
       "      <td>3186</td>\n",
       "      <td>Grove St PATH</td>\n",
       "      <td>40.719586</td>\n",
       "      <td>-74.043117</td>\n",
       "      <td>3276</td>\n",
       "      <td>Marin Light Rail</td>\n",
       "      <td>40.714584</td>\n",
       "      <td>-74.042817</td>\n",
       "      <td>29276</td>\n",
       "      <td>Subscriber</td>\n",
       "      <td>1983</td>\n",
       "      <td>2</td>\n",
       "    </tr>\n",
       "  </tbody>\n",
       "</table>\n",
       "</div>"
      ],
      "text/plain": [
       "   Unnamed: 0  tripduration                 starttime  \\\n",
       "0           0           226  2020-01-01 00:04:50.1920   \n",
       "1           1           377  2020-01-01 00:16:01.6700   \n",
       "2           2           288  2020-01-01 00:17:33.8770   \n",
       "3           3           435  2020-01-01 00:32:05.9020   \n",
       "4           4           231  2020-01-01 00:46:19.6780   \n",
       "\n",
       "                   stoptime  start station id start station name  \\\n",
       "0  2020-01-01 00:08:37.0370              3186      Grove St PATH   \n",
       "1  2020-01-01 00:22:19.0800              3186      Grove St PATH   \n",
       "2  2020-01-01 00:22:22.4420              3186      Grove St PATH   \n",
       "3  2020-01-01 00:39:21.0660              3195            Sip Ave   \n",
       "4  2020-01-01 00:50:11.3440              3186      Grove St PATH   \n",
       "\n",
       "   start station latitude  start station longitude  end station id  \\\n",
       "0               40.719586               -74.043117            3211   \n",
       "1               40.719586               -74.043117            3269   \n",
       "2               40.719586               -74.043117            3269   \n",
       "3               40.730897               -74.063913            3280   \n",
       "4               40.719586               -74.043117            3276   \n",
       "\n",
       "   end station name  end station latitude  end station longitude  bikeid  \\\n",
       "0        Newark Ave             40.721525             -74.046305   29444   \n",
       "1   Brunswick & 6th             40.726012             -74.050389   26305   \n",
       "2   Brunswick & 6th             40.726012             -74.050389   29268   \n",
       "3       Astor Place             40.719282             -74.071262   29278   \n",
       "4  Marin Light Rail             40.714584             -74.042817   29276   \n",
       "\n",
       "     usertype  birth year  gender  \n",
       "0  Subscriber        1984       2  \n",
       "1  Subscriber        1989       2  \n",
       "2    Customer        1989       1  \n",
       "3    Customer        1969       0  \n",
       "4  Subscriber        1983       2  "
      ]
     },
     "execution_count": 4,
     "metadata": {},
     "output_type": "execute_result"
    }
   ],
   "source": [
    "df_bike.head()"
   ]
  },
  {
   "cell_type": "code",
   "execution_count": 5,
   "metadata": {},
   "outputs": [
    {
     "data": {
      "text/plain": [
       "Unnamed: 0                 0\n",
       "tripduration               0\n",
       "starttime                  0\n",
       "stoptime                   0\n",
       "start station id           0\n",
       "start station name         0\n",
       "start station latitude     0\n",
       "start station longitude    0\n",
       "end station id             0\n",
       "end station name           0\n",
       "end station latitude       0\n",
       "end station longitude      0\n",
       "bikeid                     0\n",
       "usertype                   0\n",
       "birth year                 0\n",
       "gender                     0\n",
       "dtype: int64"
      ]
     },
     "execution_count": 5,
     "metadata": {},
     "output_type": "execute_result"
    }
   ],
   "source": [
    "df_bike.isnull().sum()"
   ]
  },
  {
   "cell_type": "code",
   "execution_count": 6,
   "metadata": {},
   "outputs": [
    {
     "data": {
      "text/plain": [
       "0"
      ]
     },
     "execution_count": 6,
     "metadata": {},
     "output_type": "execute_result"
    }
   ],
   "source": [
    "df_bike.duplicated().sum()"
   ]
  },
  {
   "cell_type": "code",
   "execution_count": 7,
   "metadata": {},
   "outputs": [
    {
     "data": {
      "text/html": [
       "<div>\n",
       "<style scoped>\n",
       "    .dataframe tbody tr th:only-of-type {\n",
       "        vertical-align: middle;\n",
       "    }\n",
       "\n",
       "    .dataframe tbody tr th {\n",
       "        vertical-align: top;\n",
       "    }\n",
       "\n",
       "    .dataframe thead th {\n",
       "        text-align: right;\n",
       "    }\n",
       "</style>\n",
       "<table border=\"1\" class=\"dataframe\">\n",
       "  <thead>\n",
       "    <tr style=\"text-align: right;\">\n",
       "      <th></th>\n",
       "      <th>Unnamed: 0</th>\n",
       "      <th>tripduration</th>\n",
       "      <th>start station id</th>\n",
       "      <th>start station latitude</th>\n",
       "      <th>start station longitude</th>\n",
       "      <th>end station id</th>\n",
       "      <th>end station latitude</th>\n",
       "      <th>end station longitude</th>\n",
       "      <th>bikeid</th>\n",
       "      <th>birth year</th>\n",
       "      <th>gender</th>\n",
       "    </tr>\n",
       "  </thead>\n",
       "  <tbody>\n",
       "    <tr>\n",
       "      <th>count</th>\n",
       "      <td>325108.000000</td>\n",
       "      <td>3.251080e+05</td>\n",
       "      <td>325108.000000</td>\n",
       "      <td>325108.000000</td>\n",
       "      <td>325108.000000</td>\n",
       "      <td>325108.000000</td>\n",
       "      <td>325108.000000</td>\n",
       "      <td>325108.000000</td>\n",
       "      <td>325108.000000</td>\n",
       "      <td>325108.000000</td>\n",
       "      <td>325108.000000</td>\n",
       "    </tr>\n",
       "    <tr>\n",
       "      <th>mean</th>\n",
       "      <td>162553.500000</td>\n",
       "      <td>1.581430e+03</td>\n",
       "      <td>3304.063065</td>\n",
       "      <td>40.722202</td>\n",
       "      <td>-74.046739</td>\n",
       "      <td>3302.727232</td>\n",
       "      <td>40.721720</td>\n",
       "      <td>-74.045913</td>\n",
       "      <td>40602.703249</td>\n",
       "      <td>1981.318599</td>\n",
       "      <td>1.096565</td>\n",
       "    </tr>\n",
       "    <tr>\n",
       "      <th>std</th>\n",
       "      <td>93850.739995</td>\n",
       "      <td>1.754768e+04</td>\n",
       "      <td>184.693036</td>\n",
       "      <td>0.007361</td>\n",
       "      <td>0.011907</td>\n",
       "      <td>190.198843</td>\n",
       "      <td>0.101270</td>\n",
       "      <td>0.184038</td>\n",
       "      <td>6071.874591</td>\n",
       "      <td>11.032763</td>\n",
       "      <td>0.632435</td>\n",
       "    </tr>\n",
       "    <tr>\n",
       "      <th>min</th>\n",
       "      <td>0.000000</td>\n",
       "      <td>6.100000e+01</td>\n",
       "      <td>3184.000000</td>\n",
       "      <td>40.709651</td>\n",
       "      <td>-74.083639</td>\n",
       "      <td>82.000000</td>\n",
       "      <td>0.000000</td>\n",
       "      <td>-74.083639</td>\n",
       "      <td>14531.000000</td>\n",
       "      <td>1888.000000</td>\n",
       "      <td>0.000000</td>\n",
       "    </tr>\n",
       "    <tr>\n",
       "      <th>25%</th>\n",
       "      <td>81276.750000</td>\n",
       "      <td>3.280000e+02</td>\n",
       "      <td>3195.000000</td>\n",
       "      <td>40.716870</td>\n",
       "      <td>-74.051789</td>\n",
       "      <td>3195.000000</td>\n",
       "      <td>40.716870</td>\n",
       "      <td>-74.050656</td>\n",
       "      <td>42141.000000</td>\n",
       "      <td>1969.000000</td>\n",
       "      <td>1.000000</td>\n",
       "    </tr>\n",
       "    <tr>\n",
       "      <th>50%</th>\n",
       "      <td>162553.500000</td>\n",
       "      <td>6.220000e+02</td>\n",
       "      <td>3209.000000</td>\n",
       "      <td>40.721124</td>\n",
       "      <td>-74.043991</td>\n",
       "      <td>3209.000000</td>\n",
       "      <td>40.721124</td>\n",
       "      <td>-74.043845</td>\n",
       "      <td>42371.000000</td>\n",
       "      <td>1984.000000</td>\n",
       "      <td>1.000000</td>\n",
       "    </tr>\n",
       "    <tr>\n",
       "      <th>75%</th>\n",
       "      <td>243830.250000</td>\n",
       "      <td>1.439000e+03</td>\n",
       "      <td>3276.000000</td>\n",
       "      <td>40.727224</td>\n",
       "      <td>-74.037683</td>\n",
       "      <td>3276.000000</td>\n",
       "      <td>40.727224</td>\n",
       "      <td>-74.037683</td>\n",
       "      <td>43206.000000</td>\n",
       "      <td>1990.000000</td>\n",
       "      <td>2.000000</td>\n",
       "    </tr>\n",
       "    <tr>\n",
       "      <th>max</th>\n",
       "      <td>325107.000000</td>\n",
       "      <td>3.261756e+06</td>\n",
       "      <td>3792.000000</td>\n",
       "      <td>40.748716</td>\n",
       "      <td>-74.032108</td>\n",
       "      <td>4069.000000</td>\n",
       "      <td>40.848282</td>\n",
       "      <td>0.000000</td>\n",
       "      <td>49058.000000</td>\n",
       "      <td>2004.000000</td>\n",
       "      <td>2.000000</td>\n",
       "    </tr>\n",
       "  </tbody>\n",
       "</table>\n",
       "</div>"
      ],
      "text/plain": [
       "          Unnamed: 0  tripduration  start station id  start station latitude  \\\n",
       "count  325108.000000  3.251080e+05     325108.000000           325108.000000   \n",
       "mean   162553.500000  1.581430e+03       3304.063065               40.722202   \n",
       "std     93850.739995  1.754768e+04        184.693036                0.007361   \n",
       "min         0.000000  6.100000e+01       3184.000000               40.709651   \n",
       "25%     81276.750000  3.280000e+02       3195.000000               40.716870   \n",
       "50%    162553.500000  6.220000e+02       3209.000000               40.721124   \n",
       "75%    243830.250000  1.439000e+03       3276.000000               40.727224   \n",
       "max    325107.000000  3.261756e+06       3792.000000               40.748716   \n",
       "\n",
       "       start station longitude  end station id  end station latitude  \\\n",
       "count            325108.000000   325108.000000         325108.000000   \n",
       "mean                -74.046739     3302.727232             40.721720   \n",
       "std                   0.011907      190.198843              0.101270   \n",
       "min                 -74.083639       82.000000              0.000000   \n",
       "25%                 -74.051789     3195.000000             40.716870   \n",
       "50%                 -74.043991     3209.000000             40.721124   \n",
       "75%                 -74.037683     3276.000000             40.727224   \n",
       "max                 -74.032108     4069.000000             40.848282   \n",
       "\n",
       "       end station longitude         bikeid     birth year         gender  \n",
       "count          325108.000000  325108.000000  325108.000000  325108.000000  \n",
       "mean              -74.045913   40602.703249    1981.318599       1.096565  \n",
       "std                 0.184038    6071.874591      11.032763       0.632435  \n",
       "min               -74.083639   14531.000000    1888.000000       0.000000  \n",
       "25%               -74.050656   42141.000000    1969.000000       1.000000  \n",
       "50%               -74.043845   42371.000000    1984.000000       1.000000  \n",
       "75%               -74.037683   43206.000000    1990.000000       2.000000  \n",
       "max                 0.000000   49058.000000    2004.000000       2.000000  "
      ]
     },
     "execution_count": 7,
     "metadata": {},
     "output_type": "execute_result"
    }
   ],
   "source": [
    "df_bike.describe()"
   ]
  },
  {
   "cell_type": "markdown",
   "metadata": {},
   "source": [
    "#### Data Assessing and Cleaning\n",
    "1. Remove unnecessary columns.\n",
    "2. change tripduration to tripduration_min & tripduration_hour.\n",
    "3. Change values in gender column to ( Male , Female , Unknown).\n",
    "4. Check member age and drop unnecessary age.\n",
    "5. Change start time and end time to datetime.\n",
    "6. Change user type and gender to category type\n",
    "7. Extract months and days from start time "
   ]
  },
  {
   "cell_type": "code",
   "execution_count": 30,
   "metadata": {},
   "outputs": [],
   "source": [
    "df_bike_clean = df_bike.copy()"
   ]
  },
  {
   "cell_type": "code",
   "execution_count": 31,
   "metadata": {},
   "outputs": [],
   "source": [
    "# drop columns that we dont need\n",
    "columns = ['Unnamed: 0','start station latitude','start station longitude','end station latitude','end station longitude','start station id','end station id','bikeid']\n",
    "df_bike_clean.drop(columns, inplace=True, axis=1)"
   ]
  },
  {
   "cell_type": "code",
   "execution_count": 32,
   "metadata": {},
   "outputs": [],
   "source": [
    "#change duration_sec to minutes\n",
    "df_bike_clean['tripduration_min'] = df_bike_clean['tripduration'] / 60"
   ]
  },
  {
   "cell_type": "code",
   "execution_count": 33,
   "metadata": {},
   "outputs": [],
   "source": [
    "#change duration_sec to minutes\n",
    "df_bike_clean['tripduration_hour'] = df_bike_clean['tripduration_min'] / 60"
   ]
  },
  {
   "cell_type": "code",
   "execution_count": 34,
   "metadata": {},
   "outputs": [],
   "source": [
    "# Change values in gender column\n",
    "df_bike_clean['gender'].replace(1, 'Male',inplace=True)\n",
    "df_bike_clean['gender'].replace(2, 'Female',inplace=True)\n",
    "df_bike_clean['gender'].replace(0, 'Unknown',inplace=True)"
   ]
  },
  {
   "cell_type": "code",
   "execution_count": 35,
   "metadata": {},
   "outputs": [
    {
     "data": {
      "text/html": [
       "<div>\n",
       "<style scoped>\n",
       "    .dataframe tbody tr th:only-of-type {\n",
       "        vertical-align: middle;\n",
       "    }\n",
       "\n",
       "    .dataframe tbody tr th {\n",
       "        vertical-align: top;\n",
       "    }\n",
       "\n",
       "    .dataframe thead th {\n",
       "        text-align: right;\n",
       "    }\n",
       "</style>\n",
       "<table border=\"1\" class=\"dataframe\">\n",
       "  <thead>\n",
       "    <tr style=\"text-align: right;\">\n",
       "      <th></th>\n",
       "      <th>tripduration</th>\n",
       "      <th>starttime</th>\n",
       "      <th>stoptime</th>\n",
       "      <th>start station name</th>\n",
       "      <th>end station name</th>\n",
       "      <th>usertype</th>\n",
       "      <th>birth year</th>\n",
       "      <th>gender</th>\n",
       "      <th>tripduration_min</th>\n",
       "      <th>tripduration_hour</th>\n",
       "    </tr>\n",
       "  </thead>\n",
       "  <tbody>\n",
       "    <tr>\n",
       "      <th>0</th>\n",
       "      <td>226</td>\n",
       "      <td>2020-01-01 00:04:50.1920</td>\n",
       "      <td>2020-01-01 00:08:37.0370</td>\n",
       "      <td>Grove St PATH</td>\n",
       "      <td>Newark Ave</td>\n",
       "      <td>Subscriber</td>\n",
       "      <td>1984</td>\n",
       "      <td>Female</td>\n",
       "      <td>3.766667</td>\n",
       "      <td>0.062778</td>\n",
       "    </tr>\n",
       "    <tr>\n",
       "      <th>1</th>\n",
       "      <td>377</td>\n",
       "      <td>2020-01-01 00:16:01.6700</td>\n",
       "      <td>2020-01-01 00:22:19.0800</td>\n",
       "      <td>Grove St PATH</td>\n",
       "      <td>Brunswick &amp; 6th</td>\n",
       "      <td>Subscriber</td>\n",
       "      <td>1989</td>\n",
       "      <td>Female</td>\n",
       "      <td>6.283333</td>\n",
       "      <td>0.104722</td>\n",
       "    </tr>\n",
       "    <tr>\n",
       "      <th>2</th>\n",
       "      <td>288</td>\n",
       "      <td>2020-01-01 00:17:33.8770</td>\n",
       "      <td>2020-01-01 00:22:22.4420</td>\n",
       "      <td>Grove St PATH</td>\n",
       "      <td>Brunswick &amp; 6th</td>\n",
       "      <td>Customer</td>\n",
       "      <td>1989</td>\n",
       "      <td>Male</td>\n",
       "      <td>4.800000</td>\n",
       "      <td>0.080000</td>\n",
       "    </tr>\n",
       "    <tr>\n",
       "      <th>3</th>\n",
       "      <td>435</td>\n",
       "      <td>2020-01-01 00:32:05.9020</td>\n",
       "      <td>2020-01-01 00:39:21.0660</td>\n",
       "      <td>Sip Ave</td>\n",
       "      <td>Astor Place</td>\n",
       "      <td>Customer</td>\n",
       "      <td>1969</td>\n",
       "      <td>Unknown</td>\n",
       "      <td>7.250000</td>\n",
       "      <td>0.120833</td>\n",
       "    </tr>\n",
       "    <tr>\n",
       "      <th>4</th>\n",
       "      <td>231</td>\n",
       "      <td>2020-01-01 00:46:19.6780</td>\n",
       "      <td>2020-01-01 00:50:11.3440</td>\n",
       "      <td>Grove St PATH</td>\n",
       "      <td>Marin Light Rail</td>\n",
       "      <td>Subscriber</td>\n",
       "      <td>1983</td>\n",
       "      <td>Female</td>\n",
       "      <td>3.850000</td>\n",
       "      <td>0.064167</td>\n",
       "    </tr>\n",
       "  </tbody>\n",
       "</table>\n",
       "</div>"
      ],
      "text/plain": [
       "   tripduration                 starttime                  stoptime  \\\n",
       "0           226  2020-01-01 00:04:50.1920  2020-01-01 00:08:37.0370   \n",
       "1           377  2020-01-01 00:16:01.6700  2020-01-01 00:22:19.0800   \n",
       "2           288  2020-01-01 00:17:33.8770  2020-01-01 00:22:22.4420   \n",
       "3           435  2020-01-01 00:32:05.9020  2020-01-01 00:39:21.0660   \n",
       "4           231  2020-01-01 00:46:19.6780  2020-01-01 00:50:11.3440   \n",
       "\n",
       "  start station name  end station name    usertype  birth year   gender  \\\n",
       "0      Grove St PATH        Newark Ave  Subscriber        1984   Female   \n",
       "1      Grove St PATH   Brunswick & 6th  Subscriber        1989   Female   \n",
       "2      Grove St PATH   Brunswick & 6th    Customer        1989     Male   \n",
       "3            Sip Ave       Astor Place    Customer        1969  Unknown   \n",
       "4      Grove St PATH  Marin Light Rail  Subscriber        1983   Female   \n",
       "\n",
       "   tripduration_min  tripduration_hour  \n",
       "0          3.766667           0.062778  \n",
       "1          6.283333           0.104722  \n",
       "2          4.800000           0.080000  \n",
       "3          7.250000           0.120833  \n",
       "4          3.850000           0.064167  "
      ]
     },
     "execution_count": 35,
     "metadata": {},
     "output_type": "execute_result"
    }
   ],
   "source": [
    "df_bike_clean.head()"
   ]
  },
  {
   "cell_type": "code",
   "execution_count": 36,
   "metadata": {},
   "outputs": [],
   "source": [
    "#Check member age\n",
    "df_bike_clean['member_age'] = 2020-df_bike_clean['birth year'].astype('int')"
   ]
  },
  {
   "cell_type": "code",
   "execution_count": 37,
   "metadata": {},
   "outputs": [
    {
     "data": {
      "text/plain": [
       "count    325108.000000\n",
       "mean         38.681401\n",
       "std          11.032763\n",
       "min          16.000000\n",
       "25%          30.000000\n",
       "50%          36.000000\n",
       "75%          51.000000\n",
       "max         132.000000\n",
       "Name: member_age, dtype: float64"
      ]
     },
     "execution_count": 37,
     "metadata": {},
     "output_type": "execute_result"
    }
   ],
   "source": [
    "df_bike_clean['member_age'].describe()"
   ]
  },
  {
   "cell_type": "code",
   "execution_count": 38,
   "metadata": {},
   "outputs": [
    {
     "data": {
      "text/plain": [
       "51     51138\n",
       "31     16422\n",
       "30     14886\n",
       "29     14153\n",
       "32     14038\n",
       "       ...  \n",
       "81         2\n",
       "87         2\n",
       "78         1\n",
       "82         1\n",
       "100        1\n",
       "Name: member_age, Length: 70, dtype: int64"
      ]
     },
     "execution_count": 38,
     "metadata": {},
     "output_type": "execute_result"
    }
   ],
   "source": [
    "df_bike_clean['member_age'].value_counts()"
   ]
  },
  {
   "cell_type": "code",
   "execution_count": 39,
   "metadata": {},
   "outputs": [],
   "source": [
    "# Remove ages more than 90 years\n",
    "df_over80 = df_bike_clean[df_bike_clean['member_age'] > 90]"
   ]
  },
  {
   "cell_type": "code",
   "execution_count": 40,
   "metadata": {},
   "outputs": [],
   "source": [
    "df_bike_clean= df_bike_clean.drop(df_over80.index, axis=0)"
   ]
  },
  {
   "cell_type": "code",
   "execution_count": 41,
   "metadata": {},
   "outputs": [
    {
     "data": {
      "text/plain": [
       "count    325087.000000\n",
       "mean         38.675545\n",
       "std          11.008872\n",
       "min          16.000000\n",
       "25%          30.000000\n",
       "50%          36.000000\n",
       "75%          51.000000\n",
       "max          90.000000\n",
       "Name: member_age, dtype: float64"
      ]
     },
     "execution_count": 41,
     "metadata": {},
     "output_type": "execute_result"
    }
   ],
   "source": [
    "#check values\n",
    "df_bike_clean['member_age'].describe()"
   ]
  },
  {
   "cell_type": "code",
   "execution_count": 42,
   "metadata": {},
   "outputs": [],
   "source": [
    "#change start time and stop time to datetime\n",
    "df_bike_clean['starttime'] = pd.to_datetime(df_bike_clean['starttime'])\n",
    "df_bike_clean['stoptime'] = pd.to_datetime(df_bike_clean['stoptime'])"
   ]
  },
  {
   "cell_type": "code",
   "execution_count": 43,
   "metadata": {},
   "outputs": [],
   "source": [
    "#change user type and gender to category type\n",
    "df_bike_clean['usertype'] = df_bike_clean['usertype'].astype('category')\n",
    "df_bike_clean['gender'] = df_bike_clean['gender'].astype('category')"
   ]
  },
  {
   "cell_type": "code",
   "execution_count": 44,
   "metadata": {},
   "outputs": [
    {
     "name": "stdout",
     "output_type": "stream",
     "text": [
      "<class 'pandas.core.frame.DataFrame'>\n",
      "Int64Index: 325087 entries, 0 to 325107\n",
      "Data columns (total 11 columns):\n",
      " #   Column              Non-Null Count   Dtype         \n",
      "---  ------              --------------   -----         \n",
      " 0   tripduration        325087 non-null  int64         \n",
      " 1   starttime           325087 non-null  datetime64[ns]\n",
      " 2   stoptime            325087 non-null  datetime64[ns]\n",
      " 3   start station name  325087 non-null  object        \n",
      " 4   end station name    325087 non-null  object        \n",
      " 5   usertype            325087 non-null  category      \n",
      " 6   birth year          325087 non-null  int64         \n",
      " 7   gender              325087 non-null  category      \n",
      " 8   tripduration_min    325087 non-null  float64       \n",
      " 9   tripduration_hour   325087 non-null  float64       \n",
      " 10  member_age          325087 non-null  int32         \n",
      "dtypes: category(2), datetime64[ns](2), float64(2), int32(1), int64(2), object(2)\n",
      "memory usage: 24.2+ MB\n"
     ]
    }
   ],
   "source": [
    "#check for changes\n",
    "df_bike_clean.info()"
   ]
  },
  {
   "cell_type": "code",
   "execution_count": 45,
   "metadata": {},
   "outputs": [],
   "source": [
    "#Extract months and days from start time \n",
    "df_bike_clean['month'] = df_bike_clean.starttime.dt.strftime('%b')\n",
    "df_bike_clean['day'] = df_bike_clean.starttime.dt.strftime('%a')"
   ]
  },
  {
   "cell_type": "code",
   "execution_count": 46,
   "metadata": {},
   "outputs": [
    {
     "data": {
      "text/html": [
       "<div>\n",
       "<style scoped>\n",
       "    .dataframe tbody tr th:only-of-type {\n",
       "        vertical-align: middle;\n",
       "    }\n",
       "\n",
       "    .dataframe tbody tr th {\n",
       "        vertical-align: top;\n",
       "    }\n",
       "\n",
       "    .dataframe thead th {\n",
       "        text-align: right;\n",
       "    }\n",
       "</style>\n",
       "<table border=\"1\" class=\"dataframe\">\n",
       "  <thead>\n",
       "    <tr style=\"text-align: right;\">\n",
       "      <th></th>\n",
       "      <th>tripduration</th>\n",
       "      <th>starttime</th>\n",
       "      <th>stoptime</th>\n",
       "      <th>start station name</th>\n",
       "      <th>end station name</th>\n",
       "      <th>usertype</th>\n",
       "      <th>birth year</th>\n",
       "      <th>gender</th>\n",
       "      <th>tripduration_min</th>\n",
       "      <th>tripduration_hour</th>\n",
       "      <th>member_age</th>\n",
       "      <th>month</th>\n",
       "      <th>day</th>\n",
       "    </tr>\n",
       "  </thead>\n",
       "  <tbody>\n",
       "    <tr>\n",
       "      <th>0</th>\n",
       "      <td>226</td>\n",
       "      <td>2020-01-01 00:04:50.192</td>\n",
       "      <td>2020-01-01 00:08:37.037</td>\n",
       "      <td>Grove St PATH</td>\n",
       "      <td>Newark Ave</td>\n",
       "      <td>Subscriber</td>\n",
       "      <td>1984</td>\n",
       "      <td>Female</td>\n",
       "      <td>3.766667</td>\n",
       "      <td>0.062778</td>\n",
       "      <td>36</td>\n",
       "      <td>Jan</td>\n",
       "      <td>Wed</td>\n",
       "    </tr>\n",
       "    <tr>\n",
       "      <th>1</th>\n",
       "      <td>377</td>\n",
       "      <td>2020-01-01 00:16:01.670</td>\n",
       "      <td>2020-01-01 00:22:19.080</td>\n",
       "      <td>Grove St PATH</td>\n",
       "      <td>Brunswick &amp; 6th</td>\n",
       "      <td>Subscriber</td>\n",
       "      <td>1989</td>\n",
       "      <td>Female</td>\n",
       "      <td>6.283333</td>\n",
       "      <td>0.104722</td>\n",
       "      <td>31</td>\n",
       "      <td>Jan</td>\n",
       "      <td>Wed</td>\n",
       "    </tr>\n",
       "    <tr>\n",
       "      <th>2</th>\n",
       "      <td>288</td>\n",
       "      <td>2020-01-01 00:17:33.877</td>\n",
       "      <td>2020-01-01 00:22:22.442</td>\n",
       "      <td>Grove St PATH</td>\n",
       "      <td>Brunswick &amp; 6th</td>\n",
       "      <td>Customer</td>\n",
       "      <td>1989</td>\n",
       "      <td>Male</td>\n",
       "      <td>4.800000</td>\n",
       "      <td>0.080000</td>\n",
       "      <td>31</td>\n",
       "      <td>Jan</td>\n",
       "      <td>Wed</td>\n",
       "    </tr>\n",
       "    <tr>\n",
       "      <th>3</th>\n",
       "      <td>435</td>\n",
       "      <td>2020-01-01 00:32:05.902</td>\n",
       "      <td>2020-01-01 00:39:21.066</td>\n",
       "      <td>Sip Ave</td>\n",
       "      <td>Astor Place</td>\n",
       "      <td>Customer</td>\n",
       "      <td>1969</td>\n",
       "      <td>Unknown</td>\n",
       "      <td>7.250000</td>\n",
       "      <td>0.120833</td>\n",
       "      <td>51</td>\n",
       "      <td>Jan</td>\n",
       "      <td>Wed</td>\n",
       "    </tr>\n",
       "    <tr>\n",
       "      <th>4</th>\n",
       "      <td>231</td>\n",
       "      <td>2020-01-01 00:46:19.678</td>\n",
       "      <td>2020-01-01 00:50:11.344</td>\n",
       "      <td>Grove St PATH</td>\n",
       "      <td>Marin Light Rail</td>\n",
       "      <td>Subscriber</td>\n",
       "      <td>1983</td>\n",
       "      <td>Female</td>\n",
       "      <td>3.850000</td>\n",
       "      <td>0.064167</td>\n",
       "      <td>37</td>\n",
       "      <td>Jan</td>\n",
       "      <td>Wed</td>\n",
       "    </tr>\n",
       "  </tbody>\n",
       "</table>\n",
       "</div>"
      ],
      "text/plain": [
       "   tripduration               starttime                stoptime  \\\n",
       "0           226 2020-01-01 00:04:50.192 2020-01-01 00:08:37.037   \n",
       "1           377 2020-01-01 00:16:01.670 2020-01-01 00:22:19.080   \n",
       "2           288 2020-01-01 00:17:33.877 2020-01-01 00:22:22.442   \n",
       "3           435 2020-01-01 00:32:05.902 2020-01-01 00:39:21.066   \n",
       "4           231 2020-01-01 00:46:19.678 2020-01-01 00:50:11.344   \n",
       "\n",
       "  start station name  end station name    usertype  birth year   gender  \\\n",
       "0      Grove St PATH        Newark Ave  Subscriber        1984   Female   \n",
       "1      Grove St PATH   Brunswick & 6th  Subscriber        1989   Female   \n",
       "2      Grove St PATH   Brunswick & 6th    Customer        1989     Male   \n",
       "3            Sip Ave       Astor Place    Customer        1969  Unknown   \n",
       "4      Grove St PATH  Marin Light Rail  Subscriber        1983   Female   \n",
       "\n",
       "   tripduration_min  tripduration_hour  member_age month  day  \n",
       "0          3.766667           0.062778          36   Jan  Wed  \n",
       "1          6.283333           0.104722          31   Jan  Wed  \n",
       "2          4.800000           0.080000          31   Jan  Wed  \n",
       "3          7.250000           0.120833          51   Jan  Wed  \n",
       "4          3.850000           0.064167          37   Jan  Wed  "
      ]
     },
     "execution_count": 46,
     "metadata": {},
     "output_type": "execute_result"
    }
   ],
   "source": [
    "df_bike_clean.head(5)"
   ]
  },
  {
   "cell_type": "code",
   "execution_count": 47,
   "metadata": {},
   "outputs": [
    {
     "data": {
      "text/plain": [
       "Oct    43537\n",
       "Aug    43265\n",
       "Sep    40382\n",
       "Jul    38680\n",
       "Jun    36921\n",
       "Jan    26006\n",
       "May    25076\n",
       "Feb    22958\n",
       "Nov    21275\n",
       "Mar    17719\n",
       "Apr     9268\n",
       "Name: month, dtype: int64"
      ]
     },
     "execution_count": 47,
     "metadata": {},
     "output_type": "execute_result"
    }
   ],
   "source": [
    "df_bike_clean.month.value_counts()"
   ]
  },
  {
   "cell_type": "code",
   "execution_count": 48,
   "metadata": {},
   "outputs": [
    {
     "name": "stdout",
     "output_type": "stream",
     "text": [
      "Unnamed: 0\n",
      "tripduration\n",
      "starttime\n",
      "stoptime\n",
      "start station id\n",
      "start station name\n",
      "start station latitude\n",
      "start station longitude\n",
      "end station id\n",
      "end station name\n",
      "end station latitude\n",
      "end station longitude\n",
      "bikeid\n",
      "usertype\n",
      "birth year\n",
      "gender\n"
     ]
    }
   ],
   "source": [
    "for col in df_bike.columns: \n",
    "    print(col) "
   ]
  },
  {
   "cell_type": "markdown",
   "metadata": {},
   "source": [
    "### What is the structure of your dataset?\n",
    "The dataset contains 325107 entries with 15 features including :\n",
    "1. tripduration\n",
    "2. starttime\n",
    "3. stoptime\n",
    "4. start station id\n",
    "5. start station name\n",
    "6. start station latitude\n",
    "7. start station longitude\n",
    "8. end station id\n",
    "9. end station name\n",
    "10. end station latitude\n",
    "11. end station longitude\n",
    "12. bikeid\n",
    "13. usertype\n",
    "14. birth year\n",
    "15. gender"
   ]
  },
  {
   "cell_type": "markdown",
   "metadata": {},
   "source": [
    "### What is/are the main feature(s) of interest in your dataset?\n",
    "the relationship between duration and (gender , age , user type)"
   ]
  },
  {
   "cell_type": "markdown",
   "metadata": {},
   "source": [
    "### What features in the dataset do you think will help support your investigation into your feature(s) of interest?\n",
    "the duration the trip will be helpful in comparing with gender and user type ."
   ]
  },
  {
   "cell_type": "markdown",
   "metadata": {},
   "source": [
    "## Univariate Exploration"
   ]
  },
  {
   "cell_type": "code",
   "execution_count": 49,
   "metadata": {},
   "outputs": [
    {
     "data": {
      "text/plain": [
       "month\n",
       "Jan    26006\n",
       "Feb    22958\n",
       "Mar    17719\n",
       "Apr     9268\n",
       "May    25076\n",
       "Jun    36921\n",
       "Jul    38680\n",
       "Aug    43265\n",
       "Sep    40382\n",
       "Oct    43537\n",
       "Nov    21275\n",
       "Dec        0\n",
       "Name: usertype, dtype: int64"
      ]
     },
     "execution_count": 49,
     "metadata": {},
     "output_type": "execute_result"
    }
   ],
   "source": [
    "months = ['Jan','Feb','Mar','Apr','May','Jun','Jul','Aug','Sep','Oct','Nov','Dec']\n",
    "month_order = pd.api.types.CategoricalDtype(ordered = True,categories = months)\n",
    "df_bike_clean['month'] = df_bike_clean['month'].astype(month_order)\n",
    "df_bike_clean.groupby('month')['usertype'].count()"
   ]
  },
  {
   "cell_type": "code",
   "execution_count": 50,
   "metadata": {},
   "outputs": [
    {
     "data": {
      "image/png": "[encoded data removed]",
      "text/plain": [
       "<Figure size 432x288 with 1 Axes>"
      ]
     },
     "metadata": {
      "needs_background": "light"
     },
     "output_type": "display_data"
    }
   ],
   "source": [
    "base_color = sb.color_palette()[0]\n",
    "sb.countplot(data=df_bike_clean, x='month', color=base_color);\n",
    "plt.xlabel('The trip month')\n",
    "plt.title('The frequent trips in months');"
   ]
  },
  {
   "cell_type": "markdown",
   "metadata": {},
   "source": [
    "The number of trips are increased in (may to oct) this months of summer in the first months of the year the trips are decreased because to winter"
   ]
  },
  {
   "cell_type": "code",
   "execution_count": 51,
   "metadata": {},
   "outputs": [
    {
     "data": {
      "text/plain": [
       "day\n",
       "Sat    55725\n",
       "Sun    50479\n",
       "Mon    41290\n",
       "Tue    44052\n",
       "Wed    44362\n",
       "Thu    44274\n",
       "Fri    44905\n",
       "Name: usertype, dtype: int64"
      ]
     },
     "execution_count": 51,
     "metadata": {},
     "output_type": "execute_result"
    }
   ],
   "source": [
    "days_order = ['Sat','Sun','Mon','Tue','Wed','Thu','Fri']\n",
    "days = pd.api.types.CategoricalDtype(ordered = True,categories = days_order)\n",
    "df_bike_clean['day'] = df_bike_clean['day'].astype(days)\n",
    "df_bike_clean.groupby('day')['usertype'].count()"
   ]
  },
  {
   "cell_type": "code",
   "execution_count": 52,
   "metadata": {},
   "outputs": [
    {
     "data": {
      "image/png": "[encoded data removed]",
      "text/plain": [
       "<Figure size 432x288 with 1 Axes>"
      ]
     },
     "metadata": {
      "needs_background": "light"
     },
     "output_type": "display_data"
    }
   ],
   "source": [
    "base_color = sb.color_palette()[0]\n",
    "sb.countplot(data=df_bike_clean, x='day', color=base_color);\n",
    "plt.xlabel('The trip day')\n",
    "plt.title('The frequent trips in days');"
   ]
  },
  {
   "cell_type": "markdown",
   "metadata": {},
   "source": [
    "weekends have more trips more than weekdays "
   ]
  },
  {
   "cell_type": "code",
   "execution_count": 53,
   "metadata": {},
   "outputs": [
    {
     "data": {
      "image/png": "[encoded data removed]",
      "text/plain": [
       "<Figure size 432x288 with 1 Axes>"
      ]
     },
     "metadata": {
      "needs_background": "light"
     },
     "output_type": "display_data"
    }
   ],
   "source": [
    "base_color = sb.color_palette()[0]\n",
    "plt.hist(data=df_bike_clean, x='member_age', color=base_color);\n",
    "plt.xlabel('The age of members')\n",
    "plt.title('The frequent of age for members');"
   ]
  },
  {
   "cell_type": "markdown",
   "metadata": {},
   "source": [
    "people that have (25 to 35) are the most members to make trips "
   ]
  },
  {
   "cell_type": "code",
   "execution_count": 54,
   "metadata": {},
   "outputs": [
    {
     "name": "stdout",
     "output_type": "stream",
     "text": [
      "Male       192039\n",
      "Female      82230\n",
      "Unknown     50818\n",
      "Name: gender, dtype: int64\n"
     ]
    }
   ],
   "source": [
    "gender_counts = df_bike_clean['gender'].value_counts()\n",
    "print(gender_counts)"
   ]
  },
  {
   "cell_type": "code",
   "execution_count": 55,
   "metadata": {},
   "outputs": [
    {
     "data": {
      "image/png": "[encoded data removed]",
      "text/plain": [
       "<Figure size 576x360 with 1 Axes>"
      ]
     },
     "metadata": {},
     "output_type": "display_data"
    }
   ],
   "source": [
    "plt.figure(figsize=[8, 5])\n",
    "plt.pie(gender_counts, labels = gender_counts.index, autopct='%1.0f%%', startangle=90, counterclock = False);\n",
    "plt.title(\"The distribution of members gender \");"
   ]
  },
  {
   "cell_type": "markdown",
   "metadata": {},
   "source": [
    "males have the largest proportion then females come"
   ]
  },
  {
   "cell_type": "code",
   "execution_count": 81,
   "metadata": {},
   "outputs": [
    {
     "data": {
      "image/png": "[encoded data removed]",
      "text/plain": [
       "<Figure size 576x360 with 1 Axes>"
      ]
     },
     "metadata": {
      "needs_background": "light"
     },
     "output_type": "display_data"
    }
   ],
   "source": [
    "plt.figure(figsize=[8, 5])\n",
    "plt.hist(data=df_bike_clean, x='gender');\n",
    "plt.xlabel('The gender of members')\n",
    "plt.title('Gender Count');"
   ]
  },
  {
   "cell_type": "code",
   "execution_count": 57,
   "metadata": {},
   "outputs": [
    {
     "name": "stdout",
     "output_type": "stream",
     "text": [
      "Subscriber    222107\n",
      "Customer      102980\n",
      "Name: usertype, dtype: int64\n"
     ]
    }
   ],
   "source": [
    "user_counts = df_bike_clean['usertype'].value_counts()\n",
    "print(user_counts)"
   ]
  },
  {
   "cell_type": "code",
   "execution_count": 58,
   "metadata": {},
   "outputs": [
    {
     "data": {
      "image/png": "[encoded data removed]",
      "text/plain": [
       "<Figure size 576x360 with 1 Axes>"
      ]
     },
     "metadata": {},
     "output_type": "display_data"
    }
   ],
   "source": [
    "plt.figure(figsize=[8, 5])\n",
    "plt.pie(user_counts, labels = user_counts.index, autopct='%1.0f%%', startangle=90, counterclock = False);\n",
    "plt.title(\"The distribution of members type \");"
   ]
  },
  {
   "cell_type": "markdown",
   "metadata": {},
   "source": [
    "The subscribers have larger proportion then the customers"
   ]
  },
  {
   "cell_type": "code",
   "execution_count": 59,
   "metadata": {},
   "outputs": [
    {
     "data": {
      "image/png": "[encoded data removed]",
      "text/plain": [
       "<Figure size 576x360 with 1 Axes>"
      ]
     },
     "metadata": {
      "needs_background": "light"
     },
     "output_type": "display_data"
    }
   ],
   "source": [
    "plt.figure(figsize=[8, 5])\n",
    "plt.hist(data=df_bike_clean, x='usertype');\n",
    "plt.xlabel('The type of members')\n",
    "plt.title('type Counts');"
   ]
  },
  {
   "cell_type": "code",
   "execution_count": 60,
   "metadata": {},
   "outputs": [
    {
     "data": {
      "text/plain": [
       "count    325087.000000\n",
       "mean         26.358589\n",
       "std         292.470712\n",
       "min           1.016667\n",
       "25%           5.466667\n",
       "50%          10.366667\n",
       "75%          23.983333\n",
       "max       54362.600000\n",
       "Name: tripduration_min, dtype: float64"
      ]
     },
     "execution_count": 60,
     "metadata": {},
     "output_type": "execute_result"
    }
   ],
   "source": [
    "df_bike_clean['tripduration_min'].describe()"
   ]
  },
  {
   "cell_type": "code",
   "execution_count": 61,
   "metadata": {},
   "outputs": [
    {
     "data": {
      "image/png": "[encoded data removed]",
      "text/plain": [
       "<Figure size 432x288 with 1 Axes>"
      ]
     },
     "metadata": {
      "needs_background": "light"
     },
     "output_type": "display_data"
    }
   ],
   "source": [
    "# i use values under 100 min and avoid outliers\n",
    "bins = np.arange(0, 100, 2)\n",
    "plt.hist(data = df_bike_clean, x = 'tripduration_min', bins = bins)\n",
    "plt.title(\"The duration of trip per minutes\")\n",
    "plt.xlabel('Duration in minutes')\n",
    "plt.ylabel('Count of members');"
   ]
  },
  {
   "cell_type": "markdown",
   "metadata": {},
   "source": [
    "### Discuss the distribution(s) of your variable(s) of interest. Were there any unusual points? Did you need to perform any transformations?\n",
    "- there are some missing data that must be checked , there are outliers in duration of trip and age have to be cleaned , there is a large percentage of unknown gender that we need to know them.\n",
    "### Of the features you investigated, were there any unusual distributions? Did you perform any operations on the data to tidy, adjust, or change the form of the data? If so, why did you do this?\n",
    "- in age distribution there is something wrong that in age of (48 to 52 there is increase ), in distribution of days the weekends are more than weekdays i think there's something wrong\n"
   ]
  },
  {
   "cell_type": "markdown",
   "metadata": {},
   "source": [
    "## Bivariate Exploration"
   ]
  },
  {
   "cell_type": "code",
   "execution_count": 62,
   "metadata": {},
   "outputs": [
    {
     "data": {
      "text/html": [
       "<div>\n",
       "<style scoped>\n",
       "    .dataframe tbody tr th:only-of-type {\n",
       "        vertical-align: middle;\n",
       "    }\n",
       "\n",
       "    .dataframe tbody tr th {\n",
       "        vertical-align: top;\n",
       "    }\n",
       "\n",
       "    .dataframe thead th {\n",
       "        text-align: right;\n",
       "    }\n",
       "</style>\n",
       "<table border=\"1\" class=\"dataframe\">\n",
       "  <thead>\n",
       "    <tr style=\"text-align: right;\">\n",
       "      <th></th>\n",
       "      <th>tripduration</th>\n",
       "      <th>starttime</th>\n",
       "      <th>stoptime</th>\n",
       "      <th>start station name</th>\n",
       "      <th>end station name</th>\n",
       "      <th>usertype</th>\n",
       "      <th>birth year</th>\n",
       "      <th>gender</th>\n",
       "      <th>tripduration_min</th>\n",
       "      <th>tripduration_hour</th>\n",
       "      <th>member_age</th>\n",
       "      <th>month</th>\n",
       "      <th>day</th>\n",
       "    </tr>\n",
       "  </thead>\n",
       "  <tbody>\n",
       "    <tr>\n",
       "      <th>0</th>\n",
       "      <td>226</td>\n",
       "      <td>2020-01-01 00:04:50.192</td>\n",
       "      <td>2020-01-01 00:08:37.037</td>\n",
       "      <td>Grove St PATH</td>\n",
       "      <td>Newark Ave</td>\n",
       "      <td>Subscriber</td>\n",
       "      <td>1984</td>\n",
       "      <td>Female</td>\n",
       "      <td>3.766667</td>\n",
       "      <td>0.062778</td>\n",
       "      <td>36</td>\n",
       "      <td>Jan</td>\n",
       "      <td>Wed</td>\n",
       "    </tr>\n",
       "    <tr>\n",
       "      <th>1</th>\n",
       "      <td>377</td>\n",
       "      <td>2020-01-01 00:16:01.670</td>\n",
       "      <td>2020-01-01 00:22:19.080</td>\n",
       "      <td>Grove St PATH</td>\n",
       "      <td>Brunswick &amp; 6th</td>\n",
       "      <td>Subscriber</td>\n",
       "      <td>1989</td>\n",
       "      <td>Female</td>\n",
       "      <td>6.283333</td>\n",
       "      <td>0.104722</td>\n",
       "      <td>31</td>\n",
       "      <td>Jan</td>\n",
       "      <td>Wed</td>\n",
       "    </tr>\n",
       "    <tr>\n",
       "      <th>2</th>\n",
       "      <td>288</td>\n",
       "      <td>2020-01-01 00:17:33.877</td>\n",
       "      <td>2020-01-01 00:22:22.442</td>\n",
       "      <td>Grove St PATH</td>\n",
       "      <td>Brunswick &amp; 6th</td>\n",
       "      <td>Customer</td>\n",
       "      <td>1989</td>\n",
       "      <td>Male</td>\n",
       "      <td>4.800000</td>\n",
       "      <td>0.080000</td>\n",
       "      <td>31</td>\n",
       "      <td>Jan</td>\n",
       "      <td>Wed</td>\n",
       "    </tr>\n",
       "    <tr>\n",
       "      <th>3</th>\n",
       "      <td>435</td>\n",
       "      <td>2020-01-01 00:32:05.902</td>\n",
       "      <td>2020-01-01 00:39:21.066</td>\n",
       "      <td>Sip Ave</td>\n",
       "      <td>Astor Place</td>\n",
       "      <td>Customer</td>\n",
       "      <td>1969</td>\n",
       "      <td>Unknown</td>\n",
       "      <td>7.250000</td>\n",
       "      <td>0.120833</td>\n",
       "      <td>51</td>\n",
       "      <td>Jan</td>\n",
       "      <td>Wed</td>\n",
       "    </tr>\n",
       "    <tr>\n",
       "      <th>4</th>\n",
       "      <td>231</td>\n",
       "      <td>2020-01-01 00:46:19.678</td>\n",
       "      <td>2020-01-01 00:50:11.344</td>\n",
       "      <td>Grove St PATH</td>\n",
       "      <td>Marin Light Rail</td>\n",
       "      <td>Subscriber</td>\n",
       "      <td>1983</td>\n",
       "      <td>Female</td>\n",
       "      <td>3.850000</td>\n",
       "      <td>0.064167</td>\n",
       "      <td>37</td>\n",
       "      <td>Jan</td>\n",
       "      <td>Wed</td>\n",
       "    </tr>\n",
       "  </tbody>\n",
       "</table>\n",
       "</div>"
      ],
      "text/plain": [
       "   tripduration               starttime                stoptime  \\\n",
       "0           226 2020-01-01 00:04:50.192 2020-01-01 00:08:37.037   \n",
       "1           377 2020-01-01 00:16:01.670 2020-01-01 00:22:19.080   \n",
       "2           288 2020-01-01 00:17:33.877 2020-01-01 00:22:22.442   \n",
       "3           435 2020-01-01 00:32:05.902 2020-01-01 00:39:21.066   \n",
       "4           231 2020-01-01 00:46:19.678 2020-01-01 00:50:11.344   \n",
       "\n",
       "  start station name  end station name    usertype  birth year   gender  \\\n",
       "0      Grove St PATH        Newark Ave  Subscriber        1984   Female   \n",
       "1      Grove St PATH   Brunswick & 6th  Subscriber        1989   Female   \n",
       "2      Grove St PATH   Brunswick & 6th    Customer        1989     Male   \n",
       "3            Sip Ave       Astor Place    Customer        1969  Unknown   \n",
       "4      Grove St PATH  Marin Light Rail  Subscriber        1983   Female   \n",
       "\n",
       "   tripduration_min  tripduration_hour  member_age month  day  \n",
       "0          3.766667           0.062778          36   Jan  Wed  \n",
       "1          6.283333           0.104722          31   Jan  Wed  \n",
       "2          4.800000           0.080000          31   Jan  Wed  \n",
       "3          7.250000           0.120833          51   Jan  Wed  \n",
       "4          3.850000           0.064167          37   Jan  Wed  "
      ]
     },
     "execution_count": 62,
     "metadata": {},
     "output_type": "execute_result"
    }
   ],
   "source": [
    "df_bike_clean.head()"
   ]
  },
  {
   "cell_type": "code",
   "execution_count": 63,
   "metadata": {},
   "outputs": [
    {
     "data": {
      "image/png": "[encoded data removed]",
      "text/plain": [
       "<Figure size 864x576 with 1 Axes>"
      ]
     },
     "metadata": {
      "needs_background": "light"
     },
     "output_type": "display_data"
    }
   ],
   "source": [
    "plt.figure(figsize=[12, 8])\n",
    "duration_type = df_bike_clean.groupby('usertype')['tripduration_min'].mean().plot(kind='barh')\n",
    "duration_type.set_title('Average Trip Duration per User Type',fontsize=20)\n",
    "duration_type.set_ylabel('User Type')\n",
    "duration_type.set_xlabel('Duration per minutes');"
   ]
  },
  {
   "cell_type": "markdown",
   "metadata": {},
   "source": [
    "this figure shows that the duration for customer is larger than subscriber "
   ]
  },
  {
   "cell_type": "code",
   "execution_count": 64,
   "metadata": {},
   "outputs": [
    {
     "data": {
      "image/png": "[encoded data removed]",
      "text/plain": [
       "<Figure size 864x576 with 1 Axes>"
      ]
     },
     "metadata": {
      "needs_background": "light"
     },
     "output_type": "display_data"
    }
   ],
   "source": [
    "plt.figure(figsize=[12, 8])\n",
    "sb.countplot(data=df_bike_clean, x='month', hue='gender');\n",
    "plt.xlabel('Months');\n",
    "plt.ylabel('Number of Trips');"
   ]
  },
  {
   "cell_type": "markdown",
   "metadata": {},
   "source": [
    "this figure shows that all genders's trips are decresed in frist 4 months of year that is winter , after that they are incresed in months of summer  "
   ]
  },
  {
   "cell_type": "code",
   "execution_count": 76,
   "metadata": {},
   "outputs": [
    {
     "data": {
      "image/png": "[encoded data removed]",
      "text/plain": [
       "<Figure size 864x576 with 1 Axes>"
      ]
     },
     "metadata": {
      "needs_background": "light"
     },
     "output_type": "display_data"
    }
   ],
   "source": [
    "plt.figure(figsize=[12, 8])\n",
    "sb.countplot(data=df_bike_clean, x='month', hue='usertype');\n",
    "plt.xlabel('Months');\n",
    "plt.ylabel('Number of Trips');"
   ]
  },
  {
   "cell_type": "markdown",
   "metadata": {},
   "source": [
    "this figure shows that all usertype's trips are decresed in frist 4 months of year that is winter , after that they are incresed in months of summer  "
   ]
  },
  {
   "cell_type": "code",
   "execution_count": 67,
   "metadata": {},
   "outputs": [
    {
     "data": {
      "image/png": "[encoded data removed]",
      "text/plain": [
       "<Figure size 864x576 with 1 Axes>"
      ]
     },
     "metadata": {
      "needs_background": "light"
     },
     "output_type": "display_data"
    }
   ],
   "source": [
    "plt.figure(figsize=[12, 8])\n",
    "sb.countplot(data=df_bike_clean, x='usertype', hue='gender')\n",
    "plt.xlabel('User Type');\n",
    "plt.ylabel('Number of gender');"
   ]
  },
  {
   "cell_type": "markdown",
   "metadata": {},
   "source": [
    "the subscriber member , males are the largest one , in customer members unknown is the largest so we have to identify them"
   ]
  },
  {
   "cell_type": "code",
   "execution_count": 68,
   "metadata": {},
   "outputs": [
    {
     "name": "stderr",
     "output_type": "stream",
     "text": [
      "C:\\Users\\Ahmed\\anaconda3\\lib\\site-packages\\seaborn\\axisgrid.py:723: UserWarning: Using the countplot function without specifying `order` is likely to produce an incorrect plot.\n",
      "  warnings.warn(warning)\n"
     ]
    },
    {
     "data": {
      "text/plain": [
       "<Figure size 864x576 with 0 Axes>"
      ]
     },
     "metadata": {},
     "output_type": "display_data"
    },
    {
     "data": {
      "image/png": "[encoded data removed]",
      "text/plain": [
       "<Figure size 720x360 with 2 Axes>"
      ]
     },
     "metadata": {
      "needs_background": "light"
     },
     "output_type": "display_data"
    }
   ],
   "source": [
    "plt.figure(figsize=[12, 8])\n",
    "g = sb.FacetGrid(data=df_bike_clean,col='usertype', col_wrap = 2, height = 5, sharey=False)\n",
    "g.map(sb.countplot, 'day')\n",
    "for i in range(2):\n",
    "    g.axes[i].set_xlabel('Day of the trip')\n",
    "    g.axes[i].set_ylabel('Number of Trips')"
   ]
  },
  {
   "cell_type": "markdown",
   "metadata": {},
   "source": [
    "the customers use trips more in weekends , the subscribers use trips more in weekdays"
   ]
  },
  {
   "cell_type": "code",
   "execution_count": 69,
   "metadata": {},
   "outputs": [
    {
     "name": "stderr",
     "output_type": "stream",
     "text": [
      "C:\\Users\\Ahmed\\anaconda3\\lib\\site-packages\\seaborn\\axisgrid.py:723: UserWarning: Using the countplot function without specifying `order` is likely to produce an incorrect plot.\n",
      "  warnings.warn(warning)\n"
     ]
    },
    {
     "data": {
      "text/plain": [
       "<Figure size 864x576 with 0 Axes>"
      ]
     },
     "metadata": {},
     "output_type": "display_data"
    },
    {
     "data": {
      "image/png": "[encoded data removed]",
      "text/plain": [
       "<Figure size 1080x360 with 2 Axes>"
      ]
     },
     "metadata": {
      "needs_background": "light"
     },
     "output_type": "display_data"
    }
   ],
   "source": [
    "plt.figure(figsize=[12, 8])\n",
    "g = sb.FacetGrid(data=df_bike_clean,col='usertype', col_wrap = 3, height = 5, sharey=False)\n",
    "g.map(sb.countplot, 'month')\n",
    "for i in range(2):\n",
    "    g.axes[i].set_xlabel('Month of the trip')\n",
    "    g.axes[i].set_ylabel('Number of Trips')"
   ]
  },
  {
   "cell_type": "markdown",
   "metadata": {},
   "source": [
    "the most usage of customer is in jun and aug while the most usage of subscriber in oct"
   ]
  },
  {
   "cell_type": "code",
   "execution_count": 70,
   "metadata": {},
   "outputs": [
    {
     "name": "stderr",
     "output_type": "stream",
     "text": [
      "C:\\Users\\Ahmed\\anaconda3\\lib\\site-packages\\seaborn\\axisgrid.py:723: UserWarning: Using the countplot function without specifying `order` is likely to produce an incorrect plot.\n",
      "  warnings.warn(warning)\n"
     ]
    },
    {
     "data": {
      "text/plain": [
       "<Figure size 864x576 with 0 Axes>"
      ]
     },
     "metadata": {},
     "output_type": "display_data"
    },
    {
     "data": {
      "image/png": "[encoded data removed]",
      "text/plain": [
       "<Figure size 1080x360 with 3 Axes>"
      ]
     },
     "metadata": {
      "needs_background": "light"
     },
     "output_type": "display_data"
    }
   ],
   "source": [
    "plt.figure(figsize=[12, 8])\n",
    "g = sb.FacetGrid(data=df_bike_clean,col='gender', col_wrap = 3, height = 5, sharey=False)\n",
    "g.map(sb.countplot, 'day')\n",
    "for i in range(3):\n",
    "    g.axes[i].set_xlabel('Day of the trip')\n",
    "    g.axes[i].set_ylabel('Number of Trips')"
   ]
  },
  {
   "cell_type": "markdown",
   "metadata": {},
   "source": [
    "females use trips most in weekend and low usage in weekday , males use trips all days of week"
   ]
  },
  {
   "cell_type": "code",
   "execution_count": 71,
   "metadata": {},
   "outputs": [
    {
     "name": "stderr",
     "output_type": "stream",
     "text": [
      "C:\\Users\\Ahmed\\anaconda3\\lib\\site-packages\\seaborn\\axisgrid.py:723: UserWarning: Using the countplot function without specifying `order` is likely to produce an incorrect plot.\n",
      "  warnings.warn(warning)\n"
     ]
    },
    {
     "data": {
      "text/plain": [
       "<Figure size 864x576 with 0 Axes>"
      ]
     },
     "metadata": {},
     "output_type": "display_data"
    },
    {
     "data": {
      "image/png": "[encoded data removed]",
      "text/plain": [
       "<Figure size 1080x360 with 3 Axes>"
      ]
     },
     "metadata": {
      "needs_background": "light"
     },
     "output_type": "display_data"
    }
   ],
   "source": [
    "plt.figure(figsize=[12, 8])\n",
    "g = sb.FacetGrid(data=df_bike_clean,col='gender', col_wrap = 3, height = 5, sharey=False)\n",
    "g.map(sb.countplot, 'month')\n",
    "for i in range(3):\n",
    "    g.axes[i].set_xlabel('Month of the trip')\n",
    "    g.axes[i].set_ylabel('Number of Trips')"
   ]
  },
  {
   "cell_type": "markdown",
   "metadata": {},
   "source": [
    "the figure shows that females use trips more than males in summer ."
   ]
  },
  {
   "cell_type": "markdown",
   "metadata": {},
   "source": [
    "### Talk about some of the relationships you observed in this part of the investigation. How did the feature(s) of interest vary with other features in the dataset?\n",
    "the most usage of trips is male , and trips increase in summer months, customers use the trips longer than subscribers \n",
    "\n",
    "\n",
    "### Did you observe any interesting relationships between the other features (not the main feature(s) of interest)?\n",
    "\n",
    "the usage of trips for female and unknown are decreased in weekdays and customers also."
   ]
  },
  {
   "cell_type": "markdown",
   "metadata": {},
   "source": [
    "## Multivariate Exploration"
   ]
  },
  {
   "cell_type": "code",
   "execution_count": 72,
   "metadata": {},
   "outputs": [
    {
     "data": {
      "image/png": "[encoded data removed]",
      "text/plain": [
       "<Figure size 802.375x360 with 2 Axes>"
      ]
     },
     "metadata": {
      "needs_background": "light"
     },
     "output_type": "display_data"
    }
   ],
   "source": [
    "g = sb.catplot(data=df_bike_clean, x='day', col=\"usertype\", hue='gender', kind='count', sharey = False)\n",
    "g.set_axis_labels(\"Day\", \"Number of Trips\")\n",
    "g.fig.suptitle('Relationship Between User Type and Gender, based on day',fontsize=14,y=1.1);"
   ]
  },
  {
   "cell_type": "code",
   "execution_count": 73,
   "metadata": {},
   "outputs": [
    {
     "data": {
      "image/png": "[encoded data removed]",
      "text/plain": [
       "<Figure size 802.375x360 with 2 Axes>"
      ]
     },
     "metadata": {
      "needs_background": "light"
     },
     "output_type": "display_data"
    }
   ],
   "source": [
    "g = sb.catplot(data=df_bike_clean, x='month', col=\"usertype\", hue='gender', kind='count', sharey = False)\n",
    "g.set_axis_labels(\"Day\", \"Number of Trips\")\n",
    "g.fig.suptitle('Relationship Between User Type and Gender, based on month',fontsize=14,y=1.1);"
   ]
  },
  {
   "cell_type": "markdown",
   "metadata": {},
   "source": [
    "### Talk about some of the relationships you observed in this part of the investigation. Were there features that strengthened each other in terms of looking at your feature(s) of interest?\n",
    "\n",
    "Customer members use trips more in weekdays and unknown gender are the most in this , and in summer months the unknown customer members are the most in using the trips , the male subscriber members are the most in using trips in weekdays and weekends , they are the most in all months and usage increases in summer months .\n",
    "\n",
    "### Were there any interesting or surprising interactions between features?\n",
    "\n",
    "the unknown gender affect your data so we have to identify it or clean it from our data"
   ]
  },
  {
   "cell_type": "code",
   "execution_count": 78,
   "metadata": {},
   "outputs": [
    {
     "data": {
      "text/plain": [
       "0"
      ]
     },
     "execution_count": 78,
     "metadata": {},
     "output_type": "execute_result"
    }
   ],
   "source": [
    "# Converting this report to html format\n",
    "from subprocess import call\n",
    "call(['python', '-m', 'nbconvert', 'exploration_template.ipynb'])"
   ]
  },
  {
   "cell_type": "code",
   "execution_count": 80,
   "metadata": {},
   "outputs": [],
   "source": [
    "# save the cleaned dataset for explanatory data analysis\n",
    "df_bike_clean.to_csv('data_cleaned.csv')"
   ]
  },
  {
   "cell_type": "code",
   "execution_count": null,
   "metadata": {},
   "outputs": [],
   "source": []
  }
 ],
 "metadata": {
  "kernelspec": {
   "display_name": "Python 3",
   "language": "python",
   "name": "python3"
  },
  "language_info": {
   "codemirror_mode": {
    "name": "ipython",
    "version": 3
   },
   "file_extension": ".py",
   "mimetype": "text/x-python",
   "name": "python",
   "nbconvert_exporter": "python",
   "pygments_lexer": "ipython3",
   "version": "3.8.5"
  }
 },
 "nbformat": 4,
 "nbformat_minor": 2
}
